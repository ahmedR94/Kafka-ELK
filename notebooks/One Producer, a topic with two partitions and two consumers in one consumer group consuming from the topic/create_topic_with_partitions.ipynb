{
 "cells": [
  {
   "cell_type": "code",
   "execution_count": 6,
   "id": "4f9020bd",
   "metadata": {},
   "outputs": [
    {
     "name": "stdout",
     "output_type": "stream",
     "text": [
      "Defaulting to user installation because normal site-packages is not writeable\n",
      "Requirement already satisfied: kafka-python in /home/ahmeda/.local/lib/python3.8/site-packages (2.0.2)\n",
      "\n",
      "\u001b[1m[\u001b[0m\u001b[34;49mnotice\u001b[0m\u001b[1;39;49m]\u001b[0m\u001b[39;49m A new release of pip is available: \u001b[0m\u001b[31;49m23.0.1\u001b[0m\u001b[39;49m -> \u001b[0m\u001b[32;49m23.1.2\u001b[0m\n",
      "\u001b[1m[\u001b[0m\u001b[34;49mnotice\u001b[0m\u001b[1;39;49m]\u001b[0m\u001b[39;49m To update, run: \u001b[0m\u001b[32;49mpython3 -m pip install --upgrade pip\u001b[0m\n"
     ]
    }
   ],
   "source": [
    "!pip install kafka-python"
   ]
  },
  {
   "cell_type": "markdown",
   "id": "1a2a31b6",
   "metadata": {},
   "source": [
    "### Create Topic with partitions"
   ]
  },
  {
   "cell_type": "code",
   "execution_count": 7,
   "id": "6f81009e",
   "metadata": {},
   "outputs": [],
   "source": [
    "from kafka.admin import KafkaAdminClient, NewTopic"
   ]
  },
  {
   "cell_type": "code",
   "execution_count": 8,
   "id": "debca395",
   "metadata": {},
   "outputs": [],
   "source": [
    "# Configure Kafka broker connection details\n",
    "bootstrap_servers = 'localhost:9092'\n",
    "\n",
    "# Create an instance of KafkaAdminClient\n",
    "admin_client = KafkaAdminClient(bootstrap_servers=bootstrap_servers)"
   ]
  },
  {
   "cell_type": "code",
   "execution_count": 9,
   "id": "fc7fdf6f",
   "metadata": {},
   "outputs": [
    {
     "data": {
      "text/plain": [
       "CreateTopicsResponse_v3(throttle_time_ms=0, topic_errors=[(topic='test-topic-partitioned', error_code=0, error_message=None)])"
      ]
     },
     "execution_count": 9,
     "metadata": {},
     "output_type": "execute_result"
    }
   ],
   "source": [
    "# Define the topic name and number of partitions\n",
    "topic_name = 'test-topic-partitioned'\n",
    "num_partitions = 2\n",
    "\n",
    "# Create a NewTopic object with the desired configuration\n",
    "topic = NewTopic(name=topic_name, num_partitions=num_partitions, replication_factor=1)\n",
    "\n",
    "# Create the topic\n",
    "admin_client.create_topics([topic])"
   ]
  },
  {
   "cell_type": "markdown",
   "id": "7d327a9b",
   "metadata": {},
   "source": [
    "### Find partitions of a topic"
   ]
  },
  {
   "cell_type": "code",
   "execution_count": 10,
   "id": "7f281da5",
   "metadata": {},
   "outputs": [
    {
     "name": "stdout",
     "output_type": "stream",
     "text": [
      "{0, 1}\n"
     ]
    }
   ],
   "source": [
    "from kafka import KafkaConsumer\n",
    "from kafka.structs import TopicPartition\n",
    "\n",
    "topic = topic_name\n",
    "consumer = KafkaConsumer(\n",
    "    topic, bootstrap_servers=bootstrap_servers, auto_offset_reset='earliest')\n",
    "\n",
    "partitions = consumer.partitions_for_topic(topic)\n",
    "print(partitions)"
   ]
  },
  {
   "cell_type": "code",
   "execution_count": null,
   "id": "0dccb499",
   "metadata": {},
   "outputs": [],
   "source": []
  }
 ],
 "metadata": {
  "kernelspec": {
   "display_name": "Python 3 (ipykernel)",
   "language": "python",
   "name": "python3"
  },
  "language_info": {
   "codemirror_mode": {
    "name": "ipython",
    "version": 3
   },
   "file_extension": ".py",
   "mimetype": "text/x-python",
   "name": "python",
   "nbconvert_exporter": "python",
   "pygments_lexer": "ipython3",
   "version": "3.8.10"
  }
 },
 "nbformat": 4,
 "nbformat_minor": 5
}
