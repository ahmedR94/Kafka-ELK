{
 "cells": [
  {
   "cell_type": "code",
   "execution_count": 1,
   "id": "82056350",
   "metadata": {},
   "outputs": [],
   "source": [
    "from kafka import KafkaProducer\n",
    "import json\n",
    "import time"
   ]
  },
  {
   "cell_type": "code",
   "execution_count": 2,
   "id": "edcdee40",
   "metadata": {},
   "outputs": [],
   "source": [
    "producer = KafkaProducer(bootstrap_servers=['localhost:9092'],\n",
    "                    value_serializer=lambda v: json.dumps(v).encode('ascii'),\n",
    "                    key_serializer=lambda v: json.dumps(v).encode('ascii')\n",
    "                    )\n",
    "topic_name='test-topic-partitioned'"
   ]
  },
  {
   "cell_type": "code",
   "execution_count": 3,
   "id": "7e0d5ad1",
   "metadata": {},
   "outputs": [
    {
     "name": "stdout",
     "output_type": "stream",
     "text": [
      "Sending messages to partitions....\n"
     ]
    }
   ],
   "source": [
    "print(\"Sending messages to partitions....\")\n",
    "#send an event(message)\n",
    "producer.send(topic_name,\n",
    "              key={\"id\":0},\n",
    "              value={\"name\":\"Frank\", \"Item\":\"Shoe\"},\n",
    "              partition=0\n",
    "             )\n",
    "producer.send(topic_name,\n",
    "              key={\"id\":1},\n",
    "              value={\"name\":\"John\", \"Item\":\"Shirt\"},\n",
    "              partition=1\n",
    "             )\n",
    "time.sleep(2)\n",
    "producer.flush()\n",
    "producer.send(topic_name,\n",
    "              key={\"id\":0},\n",
    "              value={\"name\":\"Mark\", \"Item\":\"Pens\"},\n",
    "             )\n",
    "producer.send(topic_name,\n",
    "              key={\"id\":1},\n",
    "              value={\"name\":\"Jim\", \"Item\":\"Printer\"},\n",
    "             )\n",
    "time.sleep(2)\n",
    "producer.flush()"
   ]
  },
  {
   "cell_type": "code",
   "execution_count": null,
   "id": "86ec4273",
   "metadata": {},
   "outputs": [],
   "source": []
  }
 ],
 "metadata": {
  "kernelspec": {
   "display_name": "Python 3 (ipykernel)",
   "language": "python",
   "name": "python3"
  },
  "language_info": {
   "codemirror_mode": {
    "name": "ipython",
    "version": 3
   },
   "file_extension": ".py",
   "mimetype": "text/x-python",
   "name": "python",
   "nbconvert_exporter": "python",
   "pygments_lexer": "ipython3",
   "version": "3.8.10"
  }
 },
 "nbformat": 4,
 "nbformat_minor": 5
}
