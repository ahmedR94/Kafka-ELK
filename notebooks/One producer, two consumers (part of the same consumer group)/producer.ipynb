{
 "cells": [
  {
   "cell_type": "code",
   "execution_count": 7,
   "id": "82056350",
   "metadata": {},
   "outputs": [],
   "source": [
    "from kafka import KafkaProducer\n",
    "import json\n",
    "import time"
   ]
  },
  {
   "cell_type": "code",
   "execution_count": 8,
   "id": "edcdee40",
   "metadata": {},
   "outputs": [],
   "source": [
    "producer = KafkaProducer(bootstrap_servers=['localhost:9092'],\n",
    "                    value_serializer=lambda v: json.dumps(v).encode('ascii'),\n",
    "                    key_serializer=lambda v: json.dumps(v).encode('ascii')\n",
    "                    )\n",
    "topic_name='test-topic'"
   ]
  },
  {
   "cell_type": "code",
   "execution_count": 6,
   "id": "7e0d5ad1",
   "metadata": {},
   "outputs": [],
   "source": [
    "#send an event(message)\n",
    "print(f\"Sending event to {topic_name}\")\n",
    "producer.send(\n",
    " topic_name,\n",
    " key={\"id\":1},\n",
    " value={\"name\":\"John\", \"Item\":\"Iphone\"}\n",
    ")\n",
    "time.sleep(3)\n",
    "producer.flush()\n",
    "#next messages\n",
    "print(f\"Sending event to {topic_name}\")\n",
    "producer.send(\n",
    " topic_name,\n",
    " key={\"id\":2},\n",
    " value={\"name\":\"Mary\", \"Item\":\"Laptop\"}\n",
    ")\n",
    "time.sleep(3)\n",
    "producer.flush()\n",
    "print(f\"Sending event to {topic_name}\")\n",
    "producer.send(\n",
    " topic_name,\n",
    " key={\"id\":3},\n",
    " value={\"name\":\"Jim\", \"Item\":\"Fitness Band\"}\n",
    ")\n",
    "time.sleep(3)\n",
    "producer.flush()\n",
    "print(f\"Sending event to {topic_name}\")\n",
    "producer.send(\n",
    " topic_name,\n",
    " key={\"id\":4},\n",
    " value={\"name\":\"Lisa\", \"Item\":\"watch\"}\n",
    ")\n",
    "time.sleep(3)\n",
    "producer.flush()"
   ]
  },
  {
   "cell_type": "code",
   "execution_count": null,
   "id": "86ec4273",
   "metadata": {},
   "outputs": [],
   "source": []
  }
 ],
 "metadata": {
  "kernelspec": {
   "display_name": "Python 3 (ipykernel)",
   "language": "python",
   "name": "python3"
  },
  "language_info": {
   "codemirror_mode": {
    "name": "ipython",
    "version": 3
   },
   "file_extension": ".py",
   "mimetype": "text/x-python",
   "name": "python",
   "nbconvert_exporter": "python",
   "pygments_lexer": "ipython3",
   "version": "3.8.10"
  }
 },
 "nbformat": 4,
 "nbformat_minor": 5
}
