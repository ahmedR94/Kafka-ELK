{
 "cells": [
  {
   "cell_type": "code",
   "execution_count": 1,
   "id": "63514746",
   "metadata": {},
   "outputs": [],
   "source": [
    "from kafka import KafkaAdminClient"
   ]
  },
  {
   "cell_type": "code",
   "execution_count": 2,
   "id": "931cd954",
   "metadata": {},
   "outputs": [],
   "source": [
    "# Configure Kafka broker connection details\n",
    "bootstrap_servers = 'localhost:9092'\n",
    "# Create an instance of KafkaAdminClient\n",
    "admin_client = KafkaAdminClient(bootstrap_servers=bootstrap_servers)\n",
    "# Define the topic name\n",
    "topic_name = 'test-topic'"
   ]
  },
  {
   "cell_type": "code",
   "execution_count": 3,
   "id": "312fe1cc",
   "metadata": {},
   "outputs": [
    {
     "data": {
      "text/plain": [
       "['test-topic', 'FirstTopic', '__consumer_offsets']"
      ]
     },
     "execution_count": 3,
     "metadata": {},
     "output_type": "execute_result"
    }
   ],
   "source": [
    "admin_client.list_topics()"
   ]
  },
  {
   "cell_type": "code",
   "execution_count": 19,
   "id": "82ec8aef",
   "metadata": {},
   "outputs": [],
   "source": [
    "# Retrieve the topic metadata\n",
    "topic_metadata = admin_client.describe_topics([topic_name])"
   ]
  },
  {
   "cell_type": "code",
   "execution_count": 20,
   "id": "1c086455",
   "metadata": {},
   "outputs": [
    {
     "data": {
      "text/plain": [
       "[{'error_code': 0,\n",
       "  'topic': 'test-topic',\n",
       "  'is_internal': False,\n",
       "  'partitions': [{'error_code': 0,\n",
       "    'partition': 0,\n",
       "    'leader': 1,\n",
       "    'replicas': [1],\n",
       "    'isr': [1],\n",
       "    'offline_replicas': []}]}]"
      ]
     },
     "execution_count": 20,
     "metadata": {},
     "output_type": "execute_result"
    }
   ],
   "source": [
    "topic_metadata"
   ]
  },
  {
   "cell_type": "code",
   "execution_count": 29,
   "id": "021e9eeb",
   "metadata": {},
   "outputs": [
    {
     "name": "stdout",
     "output_type": "stream",
     "text": [
      "The topic 'test-topic' has 1 partitions.\n"
     ]
    }
   ],
   "source": [
    "# Get the number of partitions from the topic metadata\n",
    "num_partitions = len(topic_metadata[0]['partitions'])\n",
    "# Print the number of partitions\n",
    "print(f\"The topic '{topic_name}' has {num_partitions} partitions.\")"
   ]
  },
  {
   "cell_type": "code",
   "execution_count": null,
   "id": "94151ce4",
   "metadata": {},
   "outputs": [],
   "source": []
  }
 ],
 "metadata": {
  "kernelspec": {
   "display_name": "Python 3 (ipykernel)",
   "language": "python",
   "name": "python3"
  },
  "language_info": {
   "codemirror_mode": {
    "name": "ipython",
    "version": 3
   },
   "file_extension": ".py",
   "mimetype": "text/x-python",
   "name": "python",
   "nbconvert_exporter": "python",
   "pygments_lexer": "ipython3",
   "version": "3.8.10"
  }
 },
 "nbformat": 4,
 "nbformat_minor": 5
}
