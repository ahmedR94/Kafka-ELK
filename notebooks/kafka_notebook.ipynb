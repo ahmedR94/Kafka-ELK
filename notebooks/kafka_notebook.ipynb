{
 "cells": [
  {
   "cell_type": "code",
   "execution_count": 3,
   "id": "0c151ea8",
   "metadata": {},
   "outputs": [
    {
     "name": "stdout",
     "output_type": "stream",
     "text": [
      "Collecting kafka-python\n",
      "  Downloading kafka_python-2.0.2-py2.py3-none-any.whl (246 kB)\n",
      "\u001b[K     |████████████████████████████████| 246 kB 1.4 MB/s eta 0:00:01\n",
      "\u001b[?25hInstalling collected packages: kafka-python\n",
      "Successfully installed kafka-python-2.0.2\n"
     ]
    }
   ],
   "source": [
    "!pip install kafka-python"
   ]
  },
  {
   "cell_type": "code",
   "execution_count": 4,
   "id": "55c9f6c2",
   "metadata": {},
   "outputs": [],
   "source": [
    "try:\n",
    "    from kafka import KafkaProducer\n",
    "    from faker import Faker\n",
    "    import json\n",
    "    from time import sleep\n",
    "except Exception as e:\n",
    "    pass"
   ]
  },
  {
   "cell_type": "code",
   "execution_count": null,
   "id": "caf67ccf",
   "metadata": {},
   "outputs": [],
   "source": [
    "try:\n",
    "    from kafka import KafkaProducer\n",
    "    from faker import Faker\n",
    "    import json\n",
    "    from time import sleep\n",
    "except Exception as e:\n",
    "    pass\n",
    "\n",
    "producer = KafkaProducer(bootstrap_servers='localhost:9092')\n",
    "_instance = Faker()\n",
    "\n",
    "\n",
    "for _ in range(20):\n",
    "    _data = {\n",
    "        \"first_name\": _instance.first_name(),\n",
    "        \"city\":_instance.city(),\n",
    "        \"phone_number\":_instance.phone_number(),\n",
    "        \"state\":_instance.state(),\n",
    "        \"id\":str(_)\n",
    "    }\n",
    "    _payload = json.dumps(_data).encode(\"utf-8\")\n",
    "    response = producer.send('FirstTopic', _payload)\n",
    "    print(response)\n",
    "\n",
    "    sleep(2)"
   ]
  }
 ],
 "metadata": {
  "kernelspec": {
   "display_name": "Python 3 (ipykernel)",
   "language": "python",
   "name": "python3"
  },
  "language_info": {
   "codemirror_mode": {
    "name": "ipython",
    "version": 3
   },
   "file_extension": ".py",
   "mimetype": "text/x-python",
   "name": "python",
   "nbconvert_exporter": "python",
   "pygments_lexer": "ipython3",
   "version": "3.8.10"
  }
 },
 "nbformat": 4,
 "nbformat_minor": 5
}
